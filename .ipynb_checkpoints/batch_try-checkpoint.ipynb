{
 "cells": [
  {
   "cell_type": "markdown",
   "id": "c90253b6-5c78-44ce-a2f8-b863155ad12d",
   "metadata": {},
   "source": [
    "# Step 3: Use TongYi batch to judge the duplication"
   ]
  },
  {
   "cell_type": "markdown",
   "id": "204b73c6-3800-4143-a867-b17e0d04ccec",
   "metadata": {
    "editable": true,
    "slideshow": {
     "slide_type": ""
    },
    "tags": []
   },
   "source": [
    "### Import what is necessary"
   ]
  },
  {
   "cell_type": "code",
   "execution_count": 97,
   "id": "7cf5e5f3-37b3-4839-a320-e3e9d416d6a1",
   "metadata": {},
   "outputs": [
    {
     "name": "stdout",
     "output_type": "stream",
     "text": [
      "3.12.3 (v3.12.3:f6650f9ad7, Apr  9 2024, 08:18:48) [Clang 13.0.0 (clang-1300.0.29.30)]\n",
      "['/Library/Frameworks/Python.framework/Versions/3.12/lib/python312.zip', '/Library/Frameworks/Python.framework/Versions/3.12/lib/python3.12', '/Library/Frameworks/Python.framework/Versions/3.12/lib/python3.12/lib-dynload', '', '/Users/hualei/Library/Python/3.12/lib/python/site-packages', '/Library/Frameworks/Python.framework/Versions/3.12/lib/python3.12/site-packages']\n"
     ]
    }
   ],
   "source": [
    "import os\n",
    "import sys\n",
    "import numpy as np\n",
    "from langchain_huggingface import HuggingFaceEmbeddings\n",
    "import pandas as pd\n",
    "import re\n",
    "import csv\n",
    "import json\n",
    "import requests\n",
    "import time\n",
    "from tabulate import tabulate\n",
    "\n",
    "from http import HTTPStatus\n",
    "import dashscope\n",
    "\n",
    "from openai import OpenAI\n",
    "from langchain_core.prompts import PromptTemplate\n",
    "\n",
    "import bs4\n",
    "from langchain import hub\n",
    "from langchain.text_splitter import RecursiveCharacterTextSplitter\n",
    "from langchain_community.document_loaders import WebBaseLoader\n",
    "from langchain_community.vectorstores import Chroma\n",
    "from langchain_core.output_parsers import StrOutputParser\n",
    "from langchain_core.runnables import RunnablePassthrough\n",
    "from langchain_openai import ChatOpenAI, OpenAIEmbeddings\n",
    "\n",
    "from langchain_community.llms.tongyi import Tongyi\n",
    "from langchain_community.chat_models.tongyi import ChatTongyi\n",
    "\n",
    "from dotenv import load_dotenv\n",
    "load_dotenv()\n",
    "\n",
    "\n",
    "# Query and Save -- async\n",
    "import asyncio\n",
    "import platform\n",
    "from dashscope.aigc.generation import AioGeneration\n",
    "\n",
    "import dashscope\n",
    "dashscope.api_key = os.getenv(\"DASHSCOPE_API_KEY\")\n",
    "\n",
    "import nest_asyncio\n",
    "nest_asyncio.apply()\n",
    "\n",
    "\n",
    "print(sys.version)\n",
    "print(sys.path)"
   ]
  },
  {
   "cell_type": "markdown",
   "id": "74d3d479-e644-40aa-8eec-a067ef2a5104",
   "metadata": {},
   "source": [
    "### Upload input file"
   ]
  },
  {
   "cell_type": "code",
   "execution_count": 98,
   "id": "d6c30431-df76-4418-b1b8-1b120263cd66",
   "metadata": {},
   "outputs": [],
   "source": [
    "from pathlib import Path\n",
    "from openai import OpenAI\n",
    "import os\n",
    "\n",
    "def upload_input_files(input_file_path):\n",
    "\n",
    "    client = OpenAI(\n",
    "        api_key=os.getenv(\"DASHSCOPE_API_KEY\"),\n",
    "        base_url=\"https://dashscope.aliyuncs.com/compatible-mode/v1\",\n",
    "    )\n",
    "    \n",
    "    # test.txt 是一个示例文件\n",
    "    file_object = client.files.create(file=Path(input_file_path), purpose=\"batch\")\n",
    "    json_data = json.loads(file_object.model_dump_json())\n",
    "    input_file_id = json_data.get('id')\n",
    "    \n",
    "    #print(f'type(file_object) = {type(file_object)}\\n')\n",
    "    #print(f'type(file_object.model_dump_json()) = {type(file_object.model_dump_json())}\\n')\n",
    "    #print(file_object.model_dump_json())\n",
    "    #print(f'input_file_id = {input_file_id}')\n",
    "\n",
    "    return input_file_id\n"
   ]
  },
  {
   "cell_type": "markdown",
   "id": "d8aa29fe-eab1-49b2-81c0-1e55c9454c0c",
   "metadata": {},
   "source": [
    "### batch request"
   ]
  },
  {
   "cell_type": "code",
   "execution_count": 99,
   "id": "4371368a-8a19-4357-a7b5-fe7b8132dc09",
   "metadata": {},
   "outputs": [],
   "source": [
    "from openai import OpenAI\n",
    "import os\n",
    "\n",
    "def send_batch_request(input_file_id):\n",
    "\n",
    "    client = OpenAI(\n",
    "            api_key=os.getenv(\"DASHSCOPE_API_KEY\"), # 如果您没有配置环境变量，请在此处用您的API Key进行替换\n",
    "            base_url=\"https://dashscope.aliyuncs.com/compatible-mode/v1\",  # 填写DashScope服务的base_url\n",
    "        )\n",
    "    batch = client.batches.create(\n",
    "      input_file_id=input_file_id,\n",
    "      endpoint=\"/v1/chat/completions\",\n",
    "      completion_window=\"24h\"\n",
    "    )\n",
    "    \n",
    "    #print(batch)\n",
    "    #print(batch.model_dump_json())\n",
    "    \n",
    "    json_data = json.loads(batch.model_dump_json())\n",
    "    batch_id = json_data.get('id')\n",
    "    #print(f'batch_id = {batch_id}')\n",
    "\n",
    "    return batch_id\n"
   ]
  },
  {
   "cell_type": "markdown",
   "id": "8943fdf1-8129-4385-a8c6-52c775c8fefe",
   "metadata": {},
   "source": [
    "### batch response"
   ]
  },
  {
   "cell_type": "code",
   "execution_count": 100,
   "id": "d3154c25-e633-45cf-8b50-ee9804017beb",
   "metadata": {},
   "outputs": [],
   "source": [
    "from openai import OpenAI\n",
    "import os\n",
    "import time\n",
    "\n",
    "def retrieve_batch_response(batch_id):\n",
    "\n",
    "    status = ''\n",
    "    count = 0\n",
    "    while True:\n",
    "        client = OpenAI(\n",
    "                api_key=os.getenv(\"DASHSCOPE_API_KEY\"), # 如果您没有配置环境变量，请在此处用您的API Key进行替换\n",
    "                base_url=\"https://dashscope.aliyuncs.com/compatible-mode/v1\",  # 填写DashScope服务的base_url\n",
    "            )\n",
    "        batch = client.batches.retrieve(batch_id)\n",
    "        json_data = json.loads(batch.model_dump_json())\n",
    "        status = json_data.get('status')\n",
    "    \n",
    "        #print(batch)\n",
    "        #print(json_data)\n",
    "        \n",
    "    \n",
    "        count += 1\n",
    "        # 1000x5 大约为1小时23分钟\n",
    "        if (status == 'completed' or count > 1000):\n",
    "            output_file_id = json_data.get('output_file_id')\n",
    "            #print(f'status =  {status}, output_file_id = {output_file_id}\\n')\n",
    "            return output_file_id\n",
    "        else:\n",
    "            time.sleep(5)\n",
    "            continue\n",
    "    \n"
   ]
  },
  {
   "cell_type": "markdown",
   "id": "b1d7e4a5-a59c-411f-b148-cee83b04c121",
   "metadata": {},
   "source": [
    "### download batch response file"
   ]
  },
  {
   "cell_type": "code",
   "execution_count": 101,
   "id": "c6ef0b7e-0635-4496-a6d6-84579de13ed0",
   "metadata": {},
   "outputs": [],
   "source": [
    "from openai import OpenAI\n",
    "import os\n",
    "\n",
    "def download_output_file(output_file_id, output_file_path):\n",
    "\n",
    "    client = OpenAI(\n",
    "        api_key=os.getenv(\"DASHSCOPE_API_KEY\"),\n",
    "        base_url=\"https://dashscope.aliyuncs.com/compatible-mode/v1\",\n",
    "    )\n",
    "    content = client.files.content(output_file_id)\n",
    "    #print(f'type(content): {type(content)}')\n",
    "    #print(content)\n",
    "    \n",
    "    with open(output_file_path, 'wb') as file:\n",
    "            file.write(content.content)"
   ]
  },
  {
   "cell_type": "markdown",
   "id": "5e7324db-eccf-4c23-a091-096d5ae332f3",
   "metadata": {},
   "source": [
    "### Utility: concatenate all the input files into one file"
   ]
  },
  {
   "cell_type": "code",
   "execution_count": 104,
   "id": "0b8bf884-9f9e-4b23-a429-d1eb32011d96",
   "metadata": {},
   "outputs": [
    {
     "name": "stdout",
     "output_type": "stream",
     "text": [
      "Reading test/input_files_1/req_batch_input1.json\n",
      "Reading test/input_files_1/req_batch_input2.json\n",
      "Reading test/input_files_1/req_batch_input3.json\n",
      "Reading test/input_files_1/req_batch_input4.json\n",
      "Reading test/input_files_1/req_batch_input5.json\n",
      "Reading test/input_files_1/req_batch_input6.json\n",
      "Reading test/input_files_1/req_batch_input7.json\n",
      "Reading test/input_files_1/req_batch_input8.json\n",
      "Reading test/input_files_1/req_batch_input9.json\n",
      "Reading test/input_files_1/req_batch_input10.json\n",
      "Reading test/input_files_1/req_batch_input11.json\n",
      "Reading test/input_files_1/req_batch_input12.json\n",
      "Reading test/input_files_1/req_batch_input13.json\n",
      "Reading test/input_files_1/req_batch_input14.json\n",
      "Reading test/input_files_1/req_batch_input15.json\n",
      "所有文件已成功拼接到 test/input_files_1/req_batch_input_all.json\n"
     ]
    }
   ],
   "source": [
    "# 定义要读取的文件列表\n",
    "FILE_NUM = 15\n",
    "file_type_name = '.json'\n",
    "#file_name_prefix = 'test/output_files_1/req_batch_output'\n",
    "file_name_prefix = 'test/input_files_1/req_batch_input'\n",
    "#concat_file_name = 'test/output_files_1/req_batch_output_all.json'\n",
    "concat_file_name = 'test/input_files_1/req_batch_input_all.json'\n",
    "\n",
    "# 打开输出文件\n",
    "with open(concat_file_name, 'w') as outfile:\n",
    "    # 逐个读取文件并将内容写入输出文件\n",
    "    for i in range(FILE_NUM):\n",
    "        file_name = file_name_prefix + str(i+1) + file_type_name\n",
    "        print(f\"Reading {file_name}\")\n",
    "        with open(file_name, 'r') as infile:\n",
    "            content = infile.read()  # 读取文件内容\n",
    "            outfile.write(content)   # 写入输出文件\n",
    "\n",
    "print(f\"所有文件已成功拼接到 {concat_file_name}\")"
   ]
  },
  {
   "cell_type": "markdown",
   "id": "d98a7e62-64f0-440a-989a-0d30c04778fb",
   "metadata": {},
   "source": [
    "## Main"
   ]
  },
  {
   "cell_type": "code",
   "execution_count": 102,
   "id": "a520466f-bb41-400a-b241-40502e4e700f",
   "metadata": {},
   "outputs": [
    {
     "name": "stdout",
     "output_type": "stream",
     "text": [
      "Processing: in - test/input_files_1/req_batch_input15.json, out - test/output_files_1/req_batch_output15.json\n",
      "Elapsed time: 210.4608 seconds\n",
      "\n",
      "Exit\n"
     ]
    }
   ],
   "source": [
    "import os\n",
    "import time\n",
    "\n",
    "start_time = time.time()\n",
    "\n",
    "index = 0\n",
    "while True:\n",
    "    index += 1\n",
    "    input_file_path = 'test/input_files_1/req_batch_input' + str(index) + '.json'\n",
    "    output_file_path = 'test/output_files_1/req_batch_output' + str(index) + '.json'\n",
    "\n",
    "    \n",
    "    if os.path.exists(input_file_path):\n",
    "        print(f'Processing: in - {input_file_path}, out - {output_file_path}')\n",
    "        \n",
    "        input_file_id = upload_input_files(input_file_path)\n",
    "        batch_id = send_batch_request(input_file_id)\n",
    "        output_file_id = retrieve_batch_response(batch_id)\n",
    "        download_output_file(output_file_id, output_file_path)\n",
    "\n",
    "        end_time = time.time()\n",
    "        elapsed_time = end_time - start_time\n",
    "        print(f'Elapsed time: {elapsed_time:.4f} seconds\\n')\n",
    "        \n",
    "    else:\n",
    "        print('Exit')\n",
    "        break\n",
    "        \n",
    "    "
   ]
  },
  {
   "cell_type": "code",
   "execution_count": null,
   "id": "f146ea95-df56-4f3c-9e36-9538c9c69549",
   "metadata": {},
   "outputs": [],
   "source": []
  }
 ],
 "metadata": {
  "kernelspec": {
   "display_name": "Python 3 (ipykernel)",
   "language": "python",
   "name": "python3"
  },
  "language_info": {
   "codemirror_mode": {
    "name": "ipython",
    "version": 3
   },
   "file_extension": ".py",
   "mimetype": "text/x-python",
   "name": "python",
   "nbconvert_exporter": "python",
   "pygments_lexer": "ipython3",
   "version": "3.12.3"
  }
 },
 "nbformat": 4,
 "nbformat_minor": 5
}
